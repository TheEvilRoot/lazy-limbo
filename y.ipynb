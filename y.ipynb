{
 "cells": [
  {
   "cell_type": "code",
   "execution_count": 1,
   "id": "hindu-preserve",
   "metadata": {},
   "outputs": [
    {
     "name": "stdout",
     "output_type": "stream",
     "text": [
      "Populating the interactive namespace from numpy and matplotlib\n"
     ]
    }
   ],
   "source": [
    "%pylab inline\n",
    "import numpy\n",
    "import random\n",
    "import matplotlib.pyplot as pl\n",
    "from progress.bar import IncrementalBar"
   ]
  },
  {
   "cell_type": "code",
   "execution_count": 2,
   "id": "about-morning",
   "metadata": {},
   "outputs": [],
   "source": [
    "class Hnn:\n",
    "    def __init__(self, in_dim, max_iter):\n",
    "        print('create hnn(%d, %d)' % (in_dim, max_iter))\n",
    "        self.in_dim = in_dim \n",
    "        self.max_iter = max_iter\n",
    "\n",
    "        self.cache = []\n",
    "        self.width = in_dim ** 2\n",
    "\n",
    "        self.weights = numpy.zeros((self.width, self.width), dtype=numpy.float32)\n",
    "    \n",
    "    def tr(self, i): \n",
    "        return i // self.in_dim, i % self.in_dim\n",
    "\n",
    "    def chk(self, dat):\n",
    "        for cached in self.cache:\n",
    "            if numpy.array_equal(cached, dat):\n",
    "                return True\n",
    "        return False\n",
    "\n",
    "    def fit(self, inp):\n",
    "        self.cache.append(inp)\n",
    "        for i in range(self.width):\n",
    "            for j in range(self.width):\n",
    "                if i != j:\n",
    "                    x, y = self.tr(i)\n",
    "                    m, n = self.tr(j)\n",
    "\n",
    "                    self.weights[i, j] += inp[x, y] * inp[m, n]\n",
    "                else:\n",
    "                    self.weights[i, j] = 0 \n",
    "    def pred(self, inp):\n",
    "        total_iter, mis_iter, outp = 0, 0, inp.copy()\n",
    "        while not self.chk(outp):\n",
    "            total_iter += 1\n",
    "            cur_idx = random.randint(0, self.width - 1)\n",
    "            predw = 0 \n",
    "            for i in range(self.width):\n",
    "                x, y = self.tr(i)\n",
    "                predw += outp[x, y] * self.weights[i, cur_idx]\n",
    "\n",
    "            predw = 1 if predw > 0 else -1\n",
    "            x, y = self.tr(cur_idx)\n",
    "            if predw != outp[x, y]:\n",
    "                outp[x, y] = predw\n",
    "            mis_iter = 0 if predw != outp[x, y] else mis_iter + 1\n",
    "\n",
    "            if mis_iter >= self.max_iter:\n",
    "                return False, outp, total_iter\n",
    "        return True, outp, total_iter\n",
    "\n",
    "class Input:\n",
    "    def __init__(self, label, data):\n",
    "        self.label = label\n",
    "        self.data = numpy.where(data == 0, -1, data)\n",
    "        self.origin = data\n",
    "        self.results = {}\n",
    "\n",
    "    def fit(self, model):\n",
    "        model.fit(self.data)\n",
    "\n",
    "    def noised(self, level):\n",
    "        out = self.data.copy()\n",
    "        for x in range(out.shape[1]):\n",
    "            for y in range(out.shape[0]):\n",
    "                if random.randint(0, 100) <= level:\n",
    "                    out[y][x] = self.data[y][x] * -1\n",
    "        return out\n",
    "\n",
    "    def process(self, model, bar):\n",
    "        for level in range(0, 101, 5):\n",
    "            bar.message = 'Running %s noise %3d...' % (self.label, level)\n",
    "            image = self.noised(level)\n",
    "            rec, out, it = model.pred(image)\n",
    "            bar.next()\n",
    "            self.results[level] = (rec, out, it)\n"
   ]
  },
  {
   "cell_type": "code",
   "execution_count": 3,
   "id": "northern-collins",
   "metadata": {},
   "outputs": [
    {
     "name": "stdout",
     "output_type": "stream",
     "text": [
      "create hnn(10, 1200)\n"
     ]
    }
   ],
   "source": [
    "bar = IncrementalBar('Running...', max=3 * 21)\n",
    "model = Hnn(10, 1200)\n",
    "a = Input(\"A\", numpy.array([\n",
    "    [0, 0, 0, 1, 1, 1, 1, 0, 0, 0],\n",
    "    [0, 0, 1, 1, 1, 1, 1, 1, 0, 0],\n",
    "    [0, 1, 1, 1, 0, 0, 1, 1, 1, 0],\n",
    "    [0, 1, 1, 0, 0, 0, 0, 1, 1, 0],\n",
    "    [0, 1, 1, 0, 0, 0, 0, 1, 1, 0],\n",
    "    [0, 1, 1, 1, 1, 1, 1, 1, 1, 0],\n",
    "    [0, 1, 1, 1, 1, 1, 1, 1, 1, 0],\n",
    "    [0, 1, 1, 0, 0, 0, 0, 1, 1, 0],\n",
    "    [0, 1, 1, 0, 0, 0, 0, 1, 1, 0],\n",
    "    [0, 1, 1, 0, 0, 0, 0, 1, 1, 0],\n",
    "]))\n",
    "b = Input(\"И\", numpy.array([\n",
    "    [1, 1, 0, 0, 0, 0, 0, 0, 1, 1],\n",
    "    [1, 1, 0, 0, 0, 0, 0, 1, 1, 1],\n",
    "    [1, 1, 0, 0, 0, 0, 1, 1, 1, 1],\n",
    "    [1, 1, 0, 0, 0, 1, 1, 1, 1, 1],\n",
    "    [1, 1, 0, 0, 1, 1, 1, 0, 1, 1],\n",
    "    [1, 1, 0, 1, 1, 1, 0, 0, 1, 1],\n",
    "    [1, 1, 1, 1, 1, 0, 0, 0, 1, 1],\n",
    "    [1, 1, 1, 1, 0, 0, 0, 0, 1, 1],\n",
    "    [1, 1, 1, 0, 0, 0, 0, 0, 1, 1],\n",
    "    [1, 1, 0, 0, 0, 0, 0, 0, 1, 1],\n",
    "]))\n",
    "c = Input(\"Р\", numpy.array([\n",
    "    [0, 1, 1, 1, 1, 1, 1, 1, 0, 0],\n",
    "    [0, 1, 1, 1, 1, 1, 1, 1, 0, 0],\n",
    "    [0, 1, 1, 0, 0, 0, 1, 1, 0, 0],\n",
    "    [0, 1, 1, 0, 0, 0, 1, 1, 0, 0],\n",
    "    [0, 1, 1, 1, 1, 1, 1, 1, 0, 0],\n",
    "    [0, 1, 1, 1, 1, 1, 1, 1, 0, 0],\n",
    "    [0, 1, 1, 0, 0, 0, 0, 0, 0, 0],\n",
    "    [0, 1, 1, 0, 0, 0, 0, 0, 0, 0],\n",
    "    [0, 1, 1, 0, 0, 0, 0, 0, 0, 0],\n",
    "    [0, 1, 1, 0, 0, 0, 0, 0, 0, 0],\n",
    "]))\n",
    "\n",
    "a.fit(model)\n",
    "b.fit(model)\n",
    "c.fit(model)"
   ]
  },
  {
   "cell_type": "code",
   "execution_count": 4,
   "id": "subjective-helmet",
   "metadata": {},
   "outputs": [
    {
     "name": "stdout",
     "output_type": "stream",
     "text": [
      "0 True\n",
      "5 True\n",
      "10 True\n",
      "15 True\n",
      "20 True\n",
      "25 True\n",
      "30 True\n",
      "35 True\n",
      "40 True\n",
      "45 True\n",
      "50 True\n",
      "55 False\n",
      "60 False\n",
      "65 False\n",
      "70 False\n",
      "75 False\n",
      "80 False\n",
      "85 False\n",
      "90 False\n",
      "95 False\n",
      "100 False\n"
     ]
    },
    {
     "data": {
      "image/png": "[encoded data removed]",
      "text/plain": [
       "<Figure size 432x288 with 1 Axes>"
      ]
     },
     "metadata": {
      "needs_background": "light"
     },
     "output_type": "display_data"
    }
   ],
   "source": [
    "a.process(model, bar)\n",
    "# b.process(model, bar)\n",
    "# c.process(model, bar)\n",
    "\n",
    "for idx, dat in enumerate(a.results.items()):\n",
    "    level, res = dat\n",
    "    imshow(res[1])\n",
    "    print(level, res[0])\n"
   ]
  }
 ],
 "metadata": {
  "kernelspec": {
   "display_name": "Python 3",
   "language": "python",
   "name": "python3"
  },
  "language_info": {
   "codemirror_mode": {
    "name": "ipython",
    "version": 3
   },
   "file_extension": ".py",
   "mimetype": "text/x-python",
   "name": "python",
   "nbconvert_exporter": "python",
   "pygments_lexer": "ipython3",
   "version": "3.8.5"
  }
 },
 "nbformat": 4,
 "nbformat_minor": 5
}
